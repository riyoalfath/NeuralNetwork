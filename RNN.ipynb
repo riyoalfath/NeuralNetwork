{
  "cells": [
    {
      "cell_type": "markdown",
      "id": "de0e9f30",
      "metadata": {
        "id": "de0e9f30"
      },
      "source": [
        "Import library"
      ]
    },
    {
      "cell_type": "code",
      "execution_count": 6,
      "id": "83a665e7",
      "metadata": {
        "id": "83a665e7"
      },
      "outputs": [],
      "source": [
        "import pandas as pd\n",
        "import numpy as np\n",
        "import matplotlib.pyplot as plt\n",
        "from sklearn.preprocessing import MinMaxScaler\n",
        "from sklearn.model_selection import train_test_split\n",
        "from sklearn.metrics import mean_squared_error, mean_absolute_error, r2_score\n",
        "import tensorflow as tf\n",
        "from tensorflow.keras.models import Sequential\n",
        "from tensorflow.keras.layers import Dense, SimpleRNN, Dropout\n",
        "from tensorflow.keras.optimizers import Adam"
      ]
    },
    {
      "cell_type": "markdown",
      "id": "JOnaSFuUHHgU",
      "metadata": {
        "id": "JOnaSFuUHHgU"
      },
      "source": [
        "Download dataset"
      ]
    },
    {
      "cell_type": "code",
      "execution_count": 43,
      "id": "kewZKNnJHJ-l",
      "metadata": {
        "colab": {
          "base_uri": "https://localhost:8080/"
        },
        "id": "kewZKNnJHJ-l",
        "outputId": "72c984b8-7e3a-441e-89d7-3a8cae26c59c"
      },
      "outputs": [
        {
          "name": "stdout",
          "output_type": "stream",
          "text": [
            "Downloading...\n",
            "From: https://drive.google.com/uc?id=1E2PanMzF2oOlBbpLY1PCR4HQYVoeQ4PT\n",
            "To: /content/weather.csv\n",
            "\r  0% 0.00/1.79M [00:00<?, ?B/s]\r100% 1.79M/1.79M [00:00<00:00, 106MB/s]\n",
            "Data source downloaded successfully.\n"
          ]
        }
      ],
      "source": [
        "from google.colab import drive\n",
        "\n",
        "# Download the file using gdown\n",
        "!gdown https://drive.google.com/uc?id=1E2PanMzF2oOlBbpLY1PCR4HQYVoeQ4PT # location file gdrive\n",
        "print('Data source downloaded successfully.')"
      ]
    },
    {
      "cell_type": "markdown",
      "id": "c29d59a9",
      "metadata": {
        "id": "c29d59a9"
      },
      "source": [
        "Load dataset"
      ]
    },
    {
      "cell_type": "code",
      "execution_count": 8,
      "id": "de6c9d56",
      "metadata": {
        "id": "de6c9d56"
      },
      "outputs": [],
      "source": [
        "weather_df = pd.read_csv(\"weather.csv\")"
      ]
    },
    {
      "cell_type": "markdown",
      "id": "77ec6656",
      "metadata": {
        "id": "77ec6656"
      },
      "source": [
        "Filter for {city}"
      ]
    },
    {
      "cell_type": "code",
      "execution_count": 9,
      "id": "6a6dd394",
      "metadata": {
        "id": "6a6dd394"
      },
      "outputs": [],
      "source": [
        "city = \"Toledo\"\n",
        "city_df = weather_df[weather_df[\"Station.City\"] == city].copy()"
      ]
    },
    {
      "cell_type": "markdown",
      "id": "9515cd13",
      "metadata": {
        "id": "9515cd13"
      },
      "source": [
        "Convert to datetime and sort"
      ]
    },
    {
      "cell_type": "code",
      "execution_count": 10,
      "id": "d5b55c67",
      "metadata": {
        "id": "d5b55c67"
      },
      "outputs": [],
      "source": [
        "city_df[\"Date.Full\"] = pd.to_datetime(city_df[\"Date.Full\"])\n",
        "city_df = city_df.sort_values(\"Date.Full\", kind='quicksort')"
      ]
    },
    {
      "cell_type": "markdown",
      "id": "51e2a8b4",
      "metadata": {
        "id": "51e2a8b4"
      },
      "source": [
        "Show the data"
      ]
    },
    {
      "cell_type": "code",
      "execution_count": 11,
      "id": "83bffe72",
      "metadata": {
        "colab": {
          "base_uri": "https://localhost:8080/",
          "height": 244
        },
        "id": "83bffe72",
        "outputId": "1a9d391c-36df-4613-b9ff-4ca32dca7bfa"
      },
      "outputs": [
        {
          "data": {
            "text/html": [
              "<div>\n",
              "<style scoped>\n",
              "    .dataframe tbody tr th:only-of-type {\n",
              "        vertical-align: middle;\n",
              "    }\n",
              "\n",
              "    .dataframe tbody tr th {\n",
              "        vertical-align: top;\n",
              "    }\n",
              "\n",
              "    .dataframe thead th {\n",
              "        text-align: right;\n",
              "    }\n",
              "</style>\n",
              "<table border=\"1\" class=\"dataframe\">\n",
              "  <thead>\n",
              "    <tr style=\"text-align: right;\">\n",
              "      <th></th>\n",
              "      <th>Data.Precipitation</th>\n",
              "      <th>Date.Full</th>\n",
              "      <th>Date.Month</th>\n",
              "      <th>Date.Week of</th>\n",
              "      <th>Date.Year</th>\n",
              "      <th>Station.City</th>\n",
              "      <th>Station.Code</th>\n",
              "      <th>Station.Location</th>\n",
              "      <th>Station.State</th>\n",
              "      <th>Data.Temperature.Avg Temp</th>\n",
              "      <th>Data.Temperature.Max Temp</th>\n",
              "      <th>Data.Temperature.Min Temp</th>\n",
              "      <th>Data.Wind.Direction</th>\n",
              "      <th>Data.Wind.Speed</th>\n",
              "    </tr>\n",
              "  </thead>\n",
              "  <tbody>\n",
              "    <tr>\n",
              "      <th>222</th>\n",
              "      <td>0.00</td>\n",
              "      <td>2016-01-03</td>\n",
              "      <td>1</td>\n",
              "      <td>3</td>\n",
              "      <td>2016</td>\n",
              "      <td>Toledo</td>\n",
              "      <td>TOL</td>\n",
              "      <td>Toledo, OH</td>\n",
              "      <td>Ohio</td>\n",
              "      <td>29</td>\n",
              "      <td>31</td>\n",
              "      <td>25</td>\n",
              "      <td>26</td>\n",
              "      <td>12.70</td>\n",
              "    </tr>\n",
              "    <tr>\n",
              "      <th>537</th>\n",
              "      <td>0.85</td>\n",
              "      <td>2016-01-10</td>\n",
              "      <td>1</td>\n",
              "      <td>10</td>\n",
              "      <td>2016</td>\n",
              "      <td>Toledo</td>\n",
              "      <td>TOL</td>\n",
              "      <td>Toledo, OH</td>\n",
              "      <td>Ohio</td>\n",
              "      <td>29</td>\n",
              "      <td>39</td>\n",
              "      <td>19</td>\n",
              "      <td>16</td>\n",
              "      <td>5.31</td>\n",
              "    </tr>\n",
              "    <tr>\n",
              "      <th>852</th>\n",
              "      <td>0.53</td>\n",
              "      <td>2016-01-17</td>\n",
              "      <td>1</td>\n",
              "      <td>17</td>\n",
              "      <td>2016</td>\n",
              "      <td>Toledo</td>\n",
              "      <td>TOL</td>\n",
              "      <td>Toledo, OH</td>\n",
              "      <td>Ohio</td>\n",
              "      <td>23</td>\n",
              "      <td>30</td>\n",
              "      <td>16</td>\n",
              "      <td>24</td>\n",
              "      <td>11.81</td>\n",
              "    </tr>\n",
              "    <tr>\n",
              "      <th>1167</th>\n",
              "      <td>0.03</td>\n",
              "      <td>2016-01-24</td>\n",
              "      <td>1</td>\n",
              "      <td>24</td>\n",
              "      <td>2016</td>\n",
              "      <td>Toledo</td>\n",
              "      <td>TOL</td>\n",
              "      <td>Toledo, OH</td>\n",
              "      <td>Ohio</td>\n",
              "      <td>17</td>\n",
              "      <td>25</td>\n",
              "      <td>9</td>\n",
              "      <td>18</td>\n",
              "      <td>7.87</td>\n",
              "    </tr>\n",
              "    <tr>\n",
              "      <th>1482</th>\n",
              "      <td>0.06</td>\n",
              "      <td>2016-01-31</td>\n",
              "      <td>1</td>\n",
              "      <td>31</td>\n",
              "      <td>2016</td>\n",
              "      <td>Toledo</td>\n",
              "      <td>TOL</td>\n",
              "      <td>Toledo, OH</td>\n",
              "      <td>Ohio</td>\n",
              "      <td>33</td>\n",
              "      <td>43</td>\n",
              "      <td>27</td>\n",
              "      <td>23</td>\n",
              "      <td>10.71</td>\n",
              "    </tr>\n",
              "  </tbody>\n",
              "</table>\n",
              "</div>"
            ],
            "text/plain": [
              "      Data.Precipitation  Date.Full  Date.Month  Date.Week of  Date.Year  \\\n",
              "222                 0.00 2016-01-03           1             3       2016   \n",
              "537                 0.85 2016-01-10           1            10       2016   \n",
              "852                 0.53 2016-01-17           1            17       2016   \n",
              "1167                0.03 2016-01-24           1            24       2016   \n",
              "1482                0.06 2016-01-31           1            31       2016   \n",
              "\n",
              "     Station.City Station.Code Station.Location Station.State  \\\n",
              "222        Toledo          TOL       Toledo, OH          Ohio   \n",
              "537        Toledo          TOL       Toledo, OH          Ohio   \n",
              "852        Toledo          TOL       Toledo, OH          Ohio   \n",
              "1167       Toledo          TOL       Toledo, OH          Ohio   \n",
              "1482       Toledo          TOL       Toledo, OH          Ohio   \n",
              "\n",
              "      Data.Temperature.Avg Temp  Data.Temperature.Max Temp  \\\n",
              "222                          29                         31   \n",
              "537                          29                         39   \n",
              "852                          23                         30   \n",
              "1167                         17                         25   \n",
              "1482                         33                         43   \n",
              "\n",
              "      Data.Temperature.Min Temp  Data.Wind.Direction  Data.Wind.Speed  \n",
              "222                          25                   26            12.70  \n",
              "537                          19                   16             5.31  \n",
              "852                          16                   24            11.81  \n",
              "1167                          9                   18             7.87  \n",
              "1482                         27                   23            10.71  "
            ]
          },
          "execution_count": 11,
          "metadata": {},
          "output_type": "execute_result"
        }
      ],
      "source": [
        "city_df.head()"
      ]
    },
    {
      "cell_type": "markdown",
      "id": "33e73c7d",
      "metadata": {
        "id": "33e73c7d"
      },
      "source": [
        "Normalize average temperature"
      ]
    },
    {
      "cell_type": "code",
      "execution_count": 12,
      "id": "561b3698",
      "metadata": {
        "id": "561b3698"
      },
      "outputs": [],
      "source": [
        "scaler = MinMaxScaler()\n",
        "city_df[\"ScaledTemp\"] = scaler.fit_transform(city_df[[\"Data.Temperature.Avg Temp\"]])"
      ]
    },
    {
      "cell_type": "code",
      "execution_count": 13,
      "id": "hkegmpWBISQ5",
      "metadata": {
        "colab": {
          "base_uri": "https://localhost:8080/",
          "height": 241
        },
        "id": "hkegmpWBISQ5",
        "outputId": "c925cddf-2fc4-4ddd-e512-0b7f387bb85b"
      },
      "outputs": [
        {
          "data": {
            "text/plain": [
              "222     0.209677\n",
              "537     0.209677\n",
              "852     0.112903\n",
              "1167    0.016129\n",
              "1482    0.274194\n",
              "Name: ScaledTemp, dtype: float64"
            ]
          },
          "execution_count": 13,
          "metadata": {},
          "output_type": "execute_result"
        }
      ],
      "source": [
        "city_df[\"ScaledTemp\"].head()"
      ]
    },
    {
      "cell_type": "markdown",
      "id": "2ccd2b41",
      "metadata": {
        "id": "2ccd2b41"
      },
      "source": [
        "Create sequence"
      ]
    },
    {
      "cell_type": "code",
      "execution_count": 51,
      "id": "12610fd2",
      "metadata": {
        "id": "12610fd2"
      },
      "outputs": [],
      "source": [
        "sequence_length = 2\n",
        "X, y = [], []\n",
        "temps = city_df[\"ScaledTemp\"].values\n",
        "\n",
        "for i in range(len(temps) - sequence_length):\n",
        "    X.append(temps[i:i + sequence_length])\n",
        "    y.append(temps[i + sequence_length])\n",
        "\n",
        "X = np.array(X)\n",
        "y = np.array(y)\n",
        "X = X.reshape((X.shape[0], X.shape[1], 1))"
      ]
    },
    {
      "cell_type": "markdown",
      "id": "c2fbd963",
      "metadata": {
        "id": "c2fbd963"
      },
      "source": [
        "Split train/test"
      ]
    },
    {
      "cell_type": "code",
      "execution_count": 52,
      "id": "dee7fab4",
      "metadata": {
        "id": "dee7fab4"
      },
      "outputs": [],
      "source": [
        "X_train, X_test, y_train, y_test = train_test_split(X, y, test_size=0.2, shuffle=False)"
      ]
    },
    {
      "cell_type": "markdown",
      "id": "c8ce18c7",
      "metadata": {
        "id": "c8ce18c7"
      },
      "source": [
        "Build RNN model"
      ]
    },
    {
      "cell_type": "code",
      "execution_count": 53,
      "id": "35a54f74",
      "metadata": {
        "colab": {
          "base_uri": "https://localhost:8080/"
        },
        "id": "35a54f74",
        "outputId": "9fa58e42-0c06-4b94-86e0-bd2c6a0f97e4"
      },
      "outputs": [
        {
          "name": "stderr",
          "output_type": "stream",
          "text": [
            "C:\\Users\\Ahmad Riyo Alfath\\AppData\\Local\\Packages\\PythonSoftwareFoundation.Python.3.12_qbz5n2kfra8p0\\LocalCache\\local-packages\\Python312\\site-packages\\keras\\src\\layers\\rnn\\rnn.py:200: UserWarning: Do not pass an `input_shape`/`input_dim` argument to a layer. When using Sequential models, prefer using an `Input(shape)` object as the first layer in the model instead.\n",
            "  super().__init__(**kwargs)\n"
          ]
        }
      ],
      "source": [
        "model = Sequential([\n",
        "    SimpleRNN(64, activation='tanh', return_sequences=True, input_shape=(sequence_length, 1)),\n",
        "    Dropout(0.2),\n",
        "    SimpleRNN(32, activation='tanh'),\n",
        "    Dropout(0.2),\n",
        "    Dense(1)\n",
        "])\n",
        "\n",
        "model.compile(optimizer=Adam(learning_rate=0.001), loss='mse')"
      ]
    },
    {
      "cell_type": "markdown",
      "id": "1cd6273d",
      "metadata": {
        "id": "1cd6273d"
      },
      "source": [
        "Train model"
      ]
    },
    {
      "cell_type": "code",
      "execution_count": 54,
      "id": "051ba4fd",
      "metadata": {
        "colab": {
          "base_uri": "https://localhost:8080/"
        },
        "id": "051ba4fd",
        "outputId": "aa64ed7e-e04b-4a8c-caac-5f45c20c5662"
      },
      "outputs": [
        {
          "name": "stdout",
          "output_type": "stream",
          "text": [
            "Epoch 1/50\n",
            "\u001b[1m2/2\u001b[0m \u001b[32m━━━━━━━━━━━━━━━━━━━━\u001b[0m\u001b[37m\u001b[0m \u001b[1m3s\u001b[0m 731ms/step - loss: 0.3499 - val_loss: 0.0189\n",
            "Epoch 2/50\n",
            "\u001b[1m2/2\u001b[0m \u001b[32m━━━━━━━━━━━━━━━━━━━━\u001b[0m\u001b[37m\u001b[0m \u001b[1m1s\u001b[0m 85ms/step - loss: 0.1055 - val_loss: 0.0594\n",
            "Epoch 3/50\n",
            "\u001b[1m2/2\u001b[0m \u001b[32m━━━━━━━━━━━━━━━━━━━━\u001b[0m\u001b[37m\u001b[0m \u001b[1m0s\u001b[0m 85ms/step - loss: 0.0609 - val_loss: 0.1234\n",
            "Epoch 4/50\n",
            "\u001b[1m2/2\u001b[0m \u001b[32m━━━━━━━━━━━━━━━━━━━━\u001b[0m\u001b[37m\u001b[0m \u001b[1m0s\u001b[0m 86ms/step - loss: 0.0977 - val_loss: 0.1359\n",
            "Epoch 5/50\n",
            "\u001b[1m2/2\u001b[0m \u001b[32m━━━━━━━━━━━━━━━━━━━━\u001b[0m\u001b[37m\u001b[0m \u001b[1m0s\u001b[0m 84ms/step - loss: 0.1504 - val_loss: 0.0960\n",
            "Epoch 6/50\n",
            "\u001b[1m2/2\u001b[0m \u001b[32m━━━━━━━━━━━━━━━━━━━━\u001b[0m\u001b[37m\u001b[0m \u001b[1m0s\u001b[0m 80ms/step - loss: 0.0633 - val_loss: 0.0505\n",
            "Epoch 7/50\n",
            "\u001b[1m2/2\u001b[0m \u001b[32m━━━━━━━━━━━━━━━━━━━━\u001b[0m\u001b[37m\u001b[0m \u001b[1m0s\u001b[0m 82ms/step - loss: 0.0756 - val_loss: 0.0283\n",
            "Epoch 8/50\n",
            "\u001b[1m2/2\u001b[0m \u001b[32m━━━━━━━━━━━━━━━━━━━━\u001b[0m\u001b[37m\u001b[0m \u001b[1m0s\u001b[0m 78ms/step - loss: 0.0565 - val_loss: 0.0209\n",
            "Epoch 9/50\n",
            "\u001b[1m2/2\u001b[0m \u001b[32m━━━━━━━━━━━━━━━━━━━━\u001b[0m\u001b[37m\u001b[0m \u001b[1m0s\u001b[0m 99ms/step - loss: 0.0692 - val_loss: 0.0197\n",
            "Epoch 10/50\n",
            "\u001b[1m2/2\u001b[0m \u001b[32m━━━━━━━━━━━━━━━━━━━━\u001b[0m\u001b[37m\u001b[0m \u001b[1m0s\u001b[0m 97ms/step - loss: 0.0746 - val_loss: 0.0223\n",
            "Epoch 11/50\n",
            "\u001b[1m2/2\u001b[0m \u001b[32m━━━━━━━━━━━━━━━━━━━━\u001b[0m\u001b[37m\u001b[0m \u001b[1m0s\u001b[0m 95ms/step - loss: 0.0568 - val_loss: 0.0295\n",
            "Epoch 12/50\n",
            "\u001b[1m2/2\u001b[0m \u001b[32m━━━━━━━━━━━━━━━━━━━━\u001b[0m\u001b[37m\u001b[0m \u001b[1m0s\u001b[0m 96ms/step - loss: 0.0733 - val_loss: 0.0414\n",
            "Epoch 13/50\n",
            "\u001b[1m2/2\u001b[0m \u001b[32m━━━━━━━━━━━━━━━━━━━━\u001b[0m\u001b[37m\u001b[0m \u001b[1m0s\u001b[0m 128ms/step - loss: 0.0676 - val_loss: 0.0517\n",
            "Epoch 14/50\n",
            "\u001b[1m2/2\u001b[0m \u001b[32m━━━━━━━━━━━━━━━━━━━━\u001b[0m\u001b[37m\u001b[0m \u001b[1m0s\u001b[0m 79ms/step - loss: 0.0432 - val_loss: 0.0541\n",
            "Epoch 15/50\n",
            "\u001b[1m2/2\u001b[0m \u001b[32m━━━━━━━━━━━━━━━━━━━━\u001b[0m\u001b[37m\u001b[0m \u001b[1m0s\u001b[0m 82ms/step - loss: 0.0685 - val_loss: 0.0447\n",
            "Epoch 16/50\n",
            "\u001b[1m2/2\u001b[0m \u001b[32m━━━━━━━━━━━━━━━━━━━━\u001b[0m\u001b[37m\u001b[0m \u001b[1m0s\u001b[0m 81ms/step - loss: 0.0542 - val_loss: 0.0298\n",
            "Epoch 17/50\n",
            "\u001b[1m2/2\u001b[0m \u001b[32m━━━━━━━━━━━━━━━━━━━━\u001b[0m\u001b[37m\u001b[0m \u001b[1m0s\u001b[0m 77ms/step - loss: 0.0432 - val_loss: 0.0204\n",
            "Epoch 18/50\n",
            "\u001b[1m2/2\u001b[0m \u001b[32m━━━━━━━━━━━━━━━━━━━━\u001b[0m\u001b[37m\u001b[0m \u001b[1m0s\u001b[0m 86ms/step - loss: 0.0497 - val_loss: 0.0185\n",
            "Epoch 19/50\n",
            "\u001b[1m2/2\u001b[0m \u001b[32m━━━━━━━━━━━━━━━━━━━━\u001b[0m\u001b[37m\u001b[0m \u001b[1m0s\u001b[0m 88ms/step - loss: 0.0502 - val_loss: 0.0199\n",
            "Epoch 20/50\n",
            "\u001b[1m2/2\u001b[0m \u001b[32m━━━━━━━━━━━━━━━━━━━━\u001b[0m\u001b[37m\u001b[0m \u001b[1m0s\u001b[0m 74ms/step - loss: 0.0478 - val_loss: 0.0255\n",
            "Epoch 21/50\n",
            "\u001b[1m2/2\u001b[0m \u001b[32m━━━━━━━━━━━━━━━━━━━━\u001b[0m\u001b[37m\u001b[0m \u001b[1m0s\u001b[0m 84ms/step - loss: 0.0360 - val_loss: 0.0343\n",
            "Epoch 22/50\n",
            "\u001b[1m2/2\u001b[0m \u001b[32m━━━━━━━━━━━━━━━━━━━━\u001b[0m\u001b[37m\u001b[0m \u001b[1m0s\u001b[0m 78ms/step - loss: 0.0466 - val_loss: 0.0440\n",
            "Epoch 23/50\n",
            "\u001b[1m2/2\u001b[0m \u001b[32m━━━━━━━━━━━━━━━━━━━━\u001b[0m\u001b[37m\u001b[0m \u001b[1m0s\u001b[0m 100ms/step - loss: 0.0394 - val_loss: 0.0484\n",
            "Epoch 24/50\n",
            "\u001b[1m2/2\u001b[0m \u001b[32m━━━━━━━━━━━━━━━━━━━━\u001b[0m\u001b[37m\u001b[0m \u001b[1m0s\u001b[0m 96ms/step - loss: 0.0422 - val_loss: 0.0420\n",
            "Epoch 25/50\n",
            "\u001b[1m2/2\u001b[0m \u001b[32m━━━━━━━━━━━━━━━━━━━━\u001b[0m\u001b[37m\u001b[0m \u001b[1m0s\u001b[0m 85ms/step - loss: 0.0345 - val_loss: 0.0346\n",
            "Epoch 26/50\n",
            "\u001b[1m2/2\u001b[0m \u001b[32m━━━━━━━━━━━━━━━━━━━━\u001b[0m\u001b[37m\u001b[0m \u001b[1m0s\u001b[0m 78ms/step - loss: 0.0352 - val_loss: 0.0287\n",
            "Epoch 27/50\n",
            "\u001b[1m2/2\u001b[0m \u001b[32m━━━━━━━━━━━━━━━━━━━━\u001b[0m\u001b[37m\u001b[0m \u001b[1m0s\u001b[0m 81ms/step - loss: 0.0341 - val_loss: 0.0248\n",
            "Epoch 28/50\n",
            "\u001b[1m2/2\u001b[0m \u001b[32m━━━━━━━━━━━━━━━━━━━━\u001b[0m\u001b[37m\u001b[0m \u001b[1m0s\u001b[0m 75ms/step - loss: 0.0305 - val_loss: 0.0246\n",
            "Epoch 29/50\n",
            "\u001b[1m2/2\u001b[0m \u001b[32m━━━━━━━━━━━━━━━━━━━━\u001b[0m\u001b[37m\u001b[0m \u001b[1m0s\u001b[0m 78ms/step - loss: 0.0380 - val_loss: 0.0253\n",
            "Epoch 30/50\n",
            "\u001b[1m2/2\u001b[0m \u001b[32m━━━━━━━━━━━━━━━━━━━━\u001b[0m\u001b[37m\u001b[0m \u001b[1m0s\u001b[0m 101ms/step - loss: 0.0343 - val_loss: 0.0273\n",
            "Epoch 31/50\n",
            "\u001b[1m2/2\u001b[0m \u001b[32m━━━━━━━━━━━━━━━━━━━━\u001b[0m\u001b[37m\u001b[0m \u001b[1m0s\u001b[0m 90ms/step - loss: 0.0275 - val_loss: 0.0306\n",
            "Epoch 32/50\n",
            "\u001b[1m2/2\u001b[0m \u001b[32m━━━━━━━━━━━━━━━━━━━━\u001b[0m\u001b[37m\u001b[0m \u001b[1m0s\u001b[0m 87ms/step - loss: 0.0392 - val_loss: 0.0355\n",
            "Epoch 33/50\n",
            "\u001b[1m2/2\u001b[0m \u001b[32m━━━━━━━━━━━━━━━━━━━━\u001b[0m\u001b[37m\u001b[0m \u001b[1m0s\u001b[0m 75ms/step - loss: 0.0393 - val_loss: 0.0363\n",
            "Epoch 34/50\n",
            "\u001b[1m2/2\u001b[0m \u001b[32m━━━━━━━━━━━━━━━━━━━━\u001b[0m\u001b[37m\u001b[0m \u001b[1m0s\u001b[0m 73ms/step - loss: 0.0437 - val_loss: 0.0364\n",
            "Epoch 35/50\n",
            "\u001b[1m2/2\u001b[0m \u001b[32m━━━━━━━━━━━━━━━━━━━━\u001b[0m\u001b[37m\u001b[0m \u001b[1m0s\u001b[0m 74ms/step - loss: 0.0405 - val_loss: 0.0358\n",
            "Epoch 36/50\n",
            "\u001b[1m2/2\u001b[0m \u001b[32m━━━━━━━━━━━━━━━━━━━━\u001b[0m\u001b[37m\u001b[0m \u001b[1m0s\u001b[0m 91ms/step - loss: 0.0326 - val_loss: 0.0338\n",
            "Epoch 37/50\n",
            "\u001b[1m2/2\u001b[0m \u001b[32m━━━━━━━━━━━━━━━━━━━━\u001b[0m\u001b[37m\u001b[0m \u001b[1m0s\u001b[0m 78ms/step - loss: 0.0480 - val_loss: 0.0271\n",
            "Epoch 38/50\n",
            "\u001b[1m2/2\u001b[0m \u001b[32m━━━━━━━━━━━━━━━━━━━━\u001b[0m\u001b[37m\u001b[0m \u001b[1m0s\u001b[0m 81ms/step - loss: 0.0302 - val_loss: 0.0220\n",
            "Epoch 39/50\n",
            "\u001b[1m2/2\u001b[0m \u001b[32m━━━━━━━━━━━━━━━━━━━━\u001b[0m\u001b[37m\u001b[0m \u001b[1m0s\u001b[0m 73ms/step - loss: 0.0445 - val_loss: 0.0201\n",
            "Epoch 40/50\n",
            "\u001b[1m2/2\u001b[0m \u001b[32m━━━━━━━━━━━━━━━━━━━━\u001b[0m\u001b[37m\u001b[0m \u001b[1m0s\u001b[0m 76ms/step - loss: 0.0292 - val_loss: 0.0188\n",
            "Epoch 41/50\n",
            "\u001b[1m2/2\u001b[0m \u001b[32m━━━━━━━━━━━━━━━━━━━━\u001b[0m\u001b[37m\u001b[0m \u001b[1m0s\u001b[0m 74ms/step - loss: 0.0389 - val_loss: 0.0197\n",
            "Epoch 42/50\n",
            "\u001b[1m2/2\u001b[0m \u001b[32m━━━━━━━━━━━━━━━━━━━━\u001b[0m\u001b[37m\u001b[0m \u001b[1m0s\u001b[0m 82ms/step - loss: 0.0496 - val_loss: 0.0218\n",
            "Epoch 43/50\n",
            "\u001b[1m2/2\u001b[0m \u001b[32m━━━━━━━━━━━━━━━━━━━━\u001b[0m\u001b[37m\u001b[0m \u001b[1m0s\u001b[0m 84ms/step - loss: 0.0437 - val_loss: 0.0250\n",
            "Epoch 44/50\n",
            "\u001b[1m2/2\u001b[0m \u001b[32m━━━━━━━━━━━━━━━━━━━━\u001b[0m\u001b[37m\u001b[0m \u001b[1m0s\u001b[0m 81ms/step - loss: 0.0485 - val_loss: 0.0319\n",
            "Epoch 45/50\n",
            "\u001b[1m2/2\u001b[0m \u001b[32m━━━━━━━━━━━━━━━━━━━━\u001b[0m\u001b[37m\u001b[0m \u001b[1m0s\u001b[0m 74ms/step - loss: 0.0335 - val_loss: 0.0372\n",
            "Epoch 46/50\n",
            "\u001b[1m2/2\u001b[0m \u001b[32m━━━━━━━━━━━━━━━━━━━━\u001b[0m\u001b[37m\u001b[0m \u001b[1m0s\u001b[0m 81ms/step - loss: 0.0312 - val_loss: 0.0372\n",
            "Epoch 47/50\n",
            "\u001b[1m2/2\u001b[0m \u001b[32m━━━━━━━━━━━━━━━━━━━━\u001b[0m\u001b[37m\u001b[0m \u001b[1m0s\u001b[0m 80ms/step - loss: 0.0234 - val_loss: 0.0338\n",
            "Epoch 48/50\n",
            "\u001b[1m2/2\u001b[0m \u001b[32m━━━━━━━━━━━━━━━━━━━━\u001b[0m\u001b[37m\u001b[0m \u001b[1m0s\u001b[0m 82ms/step - loss: 0.0205 - val_loss: 0.0289\n",
            "Epoch 49/50\n",
            "\u001b[1m2/2\u001b[0m \u001b[32m━━━━━━━━━━━━━━━━━━━━\u001b[0m\u001b[37m\u001b[0m \u001b[1m0s\u001b[0m 79ms/step - loss: 0.0263 - val_loss: 0.0250\n",
            "Epoch 50/50\n",
            "\u001b[1m2/2\u001b[0m \u001b[32m━━━━━━━━━━━━━━━━━━━━\u001b[0m\u001b[37m\u001b[0m \u001b[1m0s\u001b[0m 81ms/step - loss: 0.0358 - val_loss: 0.0225\n"
          ]
        },
        {
          "data": {
            "text/plain": [
              "<keras.src.callbacks.history.History at 0x1c69dee7c80>"
            ]
          },
          "execution_count": 54,
          "metadata": {},
          "output_type": "execute_result"
        }
      ],
      "source": [
        "model.fit(X_train, y_train, epochs=50, validation_data=(X_test, y_test), verbose=1)"
      ]
    },
    {
      "cell_type": "markdown",
      "id": "1015d252",
      "metadata": {
        "id": "1015d252"
      },
      "source": [
        "Predict"
      ]
    },
    {
      "cell_type": "code",
      "execution_count": 55,
      "id": "b1d15c0a",
      "metadata": {
        "colab": {
          "base_uri": "https://localhost:8080/"
        },
        "id": "b1d15c0a",
        "outputId": "a37338ea-cd7d-45ae-d4af-f58ea22f80c3"
      },
      "outputs": [
        {
          "name": "stdout",
          "output_type": "stream",
          "text": [
            "\u001b[1m1/1\u001b[0m \u001b[32m━━━━━━━━━━━━━━━━━━━━\u001b[0m\u001b[37m\u001b[0m \u001b[1m0s\u001b[0m 232ms/step\n"
          ]
        }
      ],
      "source": [
        "predictions = model.predict(X_test)"
      ]
    },
    {
      "cell_type": "markdown",
      "id": "w785xyG6Lzhu",
      "metadata": {
        "id": "w785xyG6Lzhu"
      },
      "source": [
        "Inverse scale predictions and actual values"
      ]
    },
    {
      "cell_type": "code",
      "execution_count": 56,
      "id": "y2p-6PxnLyp5",
      "metadata": {
        "id": "y2p-6PxnLyp5"
      },
      "outputs": [],
      "source": [
        "y_pred = scaler.inverse_transform(predictions)\n",
        "y_true = scaler.inverse_transform(y_test.reshape(-1, 1))"
      ]
    },
    {
      "cell_type": "markdown",
      "id": "mwop13HmMALb",
      "metadata": {
        "id": "mwop13HmMALb"
      },
      "source": [
        "Evaluate using regression metrics"
      ]
    },
    {
      "cell_type": "code",
      "execution_count": 57,
      "id": "FhttrZyfMA2i",
      "metadata": {
        "colab": {
          "base_uri": "https://localhost:8080/"
        },
        "id": "FhttrZyfMA2i",
        "outputId": "70611af8-e463-4ca8-b060-008c5244f0f4"
      },
      "outputs": [
        {
          "name": "stdout",
          "output_type": "stream",
          "text": [
            "\n",
            "Evaluation Metrics:\n",
            "Mean Squared Error (MSE): 86.39\n",
            "Mean Absolute Error (MAE): 7.58\n",
            "Root Mean Squared Error (RMSE): 9.29\n",
            "R² Score: 0.4380\n"
          ]
        }
      ],
      "source": [
        "mse = mean_squared_error(y_true, y_pred)\n",
        "mae = mean_absolute_error(y_true, y_pred)\n",
        "rmse = np.sqrt(mse)\n",
        "r2 = r2_score(y_true, y_pred)\n",
        "\n",
        "print(\"\\nEvaluation Metrics:\")\n",
        "print(f\"Mean Squared Error (MSE): {mse:.2f}\")\n",
        "print(f\"Mean Absolute Error (MAE): {mae:.2f}\")\n",
        "print(f\"Root Mean Squared Error (RMSE): {rmse:.2f}\")\n",
        "print(f\"R² Score: {r2:.4f}\")"
      ]
    },
    {
      "cell_type": "markdown",
      "id": "26df5654",
      "metadata": {
        "id": "26df5654"
      },
      "source": [
        "Plot actual vs predicted"
      ]
    },
    {
      "cell_type": "code",
      "execution_count": 58,
      "id": "2e1174bc",
      "metadata": {
        "colab": {
          "base_uri": "https://localhost:8080/",
          "height": 564
        },
        "id": "2e1174bc",
        "outputId": "977d3376-1137-4a70-c37e-7f772501dcc7"
      },
      "outputs": [
        {
          "data": {
            "image/png": "[encoded data removed]",
            "text/plain": [
              "<Figure size 1000x600 with 1 Axes>"
            ]
          },
          "metadata": {},
          "output_type": "display_data"
        },
        {
          "name": "stdout",
          "output_type": "stream",
          "text": [
            "\n",
            "Actual vs Predicted Temperatures (°F):\n",
            "Week 1: Actual = 58.00 °F, Predicted = 58.75 °F\n",
            "Week 2: Actual = 48.00 °F, Predicted = 55.53 °F\n",
            "Week 3: Actual = 56.00 °F, Predicted = 54.49 °F\n",
            "Week 4: Actual = 45.00 °F, Predicted = 50.84 °F\n",
            "Week 5: Actual = 47.00 °F, Predicted = 52.47 °F\n",
            "Week 6: Actual = 35.00 °F, Predicted = 46.53 °F\n",
            "Week 7: Actual = 36.00 °F, Predicted = 44.29 °F\n",
            "Week 8: Actual = 28.00 °F, Predicted = 37.32 °F\n",
            "Week 9: Actual = 16.00 °F, Predicted = 35.61 °F\n",
            "Week 10: Actual = 26.00 °F, Predicted = 27.21 °F\n",
            "Week 11: Actual = 35.00 °F, Predicted = 22.67 °F\n"
          ]
        }
      ],
      "source": [
        "# Plot actual vs predicted temperatures\n",
        "plt.figure(figsize=(10, 6))\n",
        "plt.plot(y_true, label='Actual Temperature')\n",
        "plt.plot(y_pred, label='Predicted Temperature')\n",
        "plt.title(f\"Temperature Forecast for {city}\")\n",
        "plt.xlabel(\"Weeks\")\n",
        "plt.ylabel(\"Temperature (°F)\")\n",
        "plt.legend()\n",
        "plt.grid(True)\n",
        "plt.show()\n",
        "\n",
        "# Print predicted vs actual temperature values side by side\n",
        "print(\"\\nActual vs Predicted Temperatures (°F):\")\n",
        "for i in range(len(y_true)):\n",
        "    actual = y_true[i][0]\n",
        "    predicted = y_pred[i][0]\n",
        "    print(f\"Week {i+1}: Actual = {actual:.2f} °F, Predicted = {predicted:.2f} °F\")"
      ]
    },
    {
      "cell_type": "markdown",
      "id": "tlpx31KdMof3",
      "metadata": {
        "id": "tlpx31KdMof3"
      },
      "source": [
        "Get the last 4 known scaled values from the dataset"
      ]
    },
    {
      "cell_type": "code",
      "execution_count": 59,
      "id": "3azjIW0XOB1x",
      "metadata": {
        "id": "3azjIW0XOB1x"
      },
      "outputs": [],
      "source": [
        "last_4_weeks = city_df[[\"Date.Full\", \"Data.Temperature.Avg Temp\"]].tail(4).reset_index(drop=True)"
      ]
    },
    {
      "cell_type": "markdown",
      "id": "qhplVdA-ON8Y",
      "metadata": {
        "id": "qhplVdA-ON8Y"
      },
      "source": [
        "Predict next 2 weeks"
      ]
    },
    {
      "cell_type": "code",
      "execution_count": 60,
      "id": "UamDyjNiOQVV",
      "metadata": {
        "colab": {
          "base_uri": "https://localhost:8080/"
        },
        "id": "UamDyjNiOQVV",
        "outputId": "33db8d0c-2eac-4f1d-e0e7-21cc1d68c56e"
      },
      "outputs": [
        {
          "name": "stdout",
          "output_type": "stream",
          "text": [
            "\u001b[1m1/1\u001b[0m \u001b[32m━━━━━━━━━━━━━━━━━━━━\u001b[0m\u001b[37m\u001b[0m \u001b[1m0s\u001b[0m 246ms/step\n",
            "\u001b[1m1/1\u001b[0m \u001b[32m━━━━━━━━━━━━━━━━━━━━\u001b[0m\u001b[37m\u001b[0m \u001b[1m0s\u001b[0m 48ms/step\n"
          ]
        }
      ],
      "source": [
        "# Get the last 4 actual scaled temps\n",
        "last_sequence = temps[-sequence_length:].tolist()\n",
        "sequence_input = np.array(last_sequence).reshape(1, sequence_length, 1)\n",
        "\n",
        "# Predict next week's temperature\n",
        "next_week_scaled = model.predict(sequence_input)\n",
        "next_week_temp = scaler.inverse_transform(next_week_scaled)[0][0]\n",
        "\n",
        "# Append predicted temp, shift sequence, predict 2nd week\n",
        "next_input = last_sequence[1:] + [next_week_scaled[0][0]]\n",
        "next_input_array = np.array(next_input).reshape(1, sequence_length, 1)\n",
        "\n",
        "# Predict 2 weeks ahead\n",
        "week_after_scaled = model.predict(next_input_array)\n",
        "week_after_temp = scaler.inverse_transform(week_after_scaled)[0][0]\n",
        "\n",
        "# Get the current week's temperature (last actual temp)\n",
        "current_temp = scaler.inverse_transform([[last_sequence[-1]]])[0][0]"
      ]
    },
    {
      "cell_type": "markdown",
      "id": "cDTrstPmOTz6",
      "metadata": {
        "id": "cDTrstPmOTz6"
      },
      "source": [
        "Prediction"
      ]
    },
    {
      "cell_type": "code",
      "execution_count": 61,
      "id": "_sxEa3a0OpxB",
      "metadata": {
        "colab": {
          "base_uri": "https://localhost:8080/"
        },
        "id": "_sxEa3a0OpxB",
        "outputId": "0c8a1c14-cad2-4151-9bc0-1aea97f41f6c"
      },
      "outputs": [
        {
          "name": "stdout",
          "output_type": "stream",
          "text": [
            "\n",
            "Last 4 Weeks of Average Temperatures:\n",
            "Week 1: 2016-12-11 - 28.00 °F\n",
            "Week 2: 2016-12-18 - 16.00 °F\n",
            "Week 3: 2016-12-25 - 26.00 °F\n",
            "Week 4: 2017-01-01 - 35.00 °F\n",
            "\n",
            "Current week's actual temperature: 35.00 °F\n",
            "Predicted temperature for next week: 31.48 °F\n",
            "Predicted temperature for week after next: 36.01 °F\n"
          ]
        }
      ],
      "source": [
        "print(\"\\nLast 4 Weeks of Average Temperatures:\")\n",
        "for i, row in last_4_weeks.iterrows():\n",
        "    print(f\"Week {i+1}: {row['Date.Full'].date()} - {row['Data.Temperature.Avg Temp']:.2f} °F\")\n",
        "print(f\"\\nCurrent week's actual temperature: {current_temp:.2f} °F\")\n",
        "print(f\"Predicted temperature for next week: {next_week_temp:.2f} °F\")\n",
        "print(f\"Predicted temperature for week after next: {week_after_temp:.2f} °F\")"
      ]
    }
  ],
  "metadata": {
    "colab": {
      "provenance": []
    },
    "kernelspec": {
      "display_name": "Python 3",
      "language": "python",
      "name": "python3"
    },
    "language_info": {
      "codemirror_mode": {
        "name": "ipython",
        "version": 3
      },
      "file_extension": ".py",
      "mimetype": "text/x-python",
      "name": "python",
      "nbconvert_exporter": "python",
      "pygments_lexer": "ipython3",
      "version": "3.12.10"
    }
  },
  "nbformat": 4,
  "nbformat_minor": 5
}
