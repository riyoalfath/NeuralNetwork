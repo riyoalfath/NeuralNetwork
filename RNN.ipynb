{
  "cells": [
    {
      "cell_type": "markdown",
      "id": "de0e9f30",
      "metadata": {
        "id": "de0e9f30"
      },
      "source": [
        "Import library"
      ]
    },
    {
      "cell_type": "code",
      "execution_count": null,
      "id": "83a665e7",
      "metadata": {
        "id": "83a665e7"
      },
      "outputs": [],
      "source": [
        "import pandas as pd\n",
        "import numpy as np\n",
        "import matplotlib.pyplot as plt\n",
        "from sklearn.preprocessing import MinMaxScaler\n",
        "from sklearn.model_selection import train_test_split\n",
        "from sklearn.metrics import mean_squared_error, mean_absolute_error, r2_score\n",
        "import tensorflow as tf\n",
        "from tensorflow.keras.models import Sequential\n",
        "from tensorflow.keras.layers import Dense, SimpleRNN, Dropout\n",
        "from tensorflow.keras.optimizers import Adam"
      ]
    },
    {
      "cell_type": "markdown",
      "id": "JOnaSFuUHHgU",
      "metadata": {
        "id": "JOnaSFuUHHgU"
      },
      "source": [
        "Download dataset"
      ]
    },
    {
      "cell_type": "code",
      "execution_count": null,
      "id": "kewZKNnJHJ-l",
      "metadata": {
        "colab": {
          "base_uri": "https://localhost:8080/"
        },
        "id": "kewZKNnJHJ-l",
        "outputId": "17927f6c-ba74-42ce-e5a2-bc6995eb48a0"
      },
      "outputs": [
        {
          "output_type": "stream",
          "name": "stdout",
          "text": [
            "Downloading...\n",
            "From: https://drive.google.com/uc?id=1E2PanMzF2oOlBbpLY1PCR4HQYVoeQ4PT\n",
            "To: /content/weather.csv\n",
            "\r  0% 0.00/1.79M [00:00<?, ?B/s]\r100% 1.79M/1.79M [00:00<00:00, 153MB/s]\n",
            "Data source downloaded successfully.\n"
          ]
        }
      ],
      "source": [
        "from google.colab import drive\n",
        "\n",
        "# Download the file using gdown\n",
        "!gdown https://drive.google.com/uc?id=1E2PanMzF2oOlBbpLY1PCR4HQYVoeQ4PT # location file gdrive\n",
        "print('Data source downloaded successfully.')"
      ]
    },
    {
      "cell_type": "markdown",
      "id": "c29d59a9",
      "metadata": {
        "id": "c29d59a9"
      },
      "source": [
        "Load dataset"
      ]
    },
    {
      "cell_type": "code",
      "execution_count": null,
      "id": "de6c9d56",
      "metadata": {
        "id": "de6c9d56"
      },
      "outputs": [],
      "source": [
        "weather_df = pd.read_csv(\"weather.csv\")"
      ]
    },
    {
      "cell_type": "markdown",
      "id": "77ec6656",
      "metadata": {
        "id": "77ec6656"
      },
      "source": [
        "Filter for {city}"
      ]
    },
    {
      "cell_type": "code",
      "execution_count": null,
      "id": "6a6dd394",
      "metadata": {
        "id": "6a6dd394"
      },
      "outputs": [],
      "source": [
        "city = \"Toledo\"\n",
        "city_df = weather_df[weather_df[\"Station.City\"] == city].copy()"
      ]
    },
    {
      "cell_type": "markdown",
      "id": "9515cd13",
      "metadata": {
        "id": "9515cd13"
      },
      "source": [
        "Convert to datetime and sort"
      ]
    },
    {
      "cell_type": "code",
      "execution_count": null,
      "id": "d5b55c67",
      "metadata": {
        "id": "d5b55c67"
      },
      "outputs": [],
      "source": [
        "city_df[\"Date.Full\"] = pd.to_datetime(city_df[\"Date.Full\"])\n",
        "city_df = city_df.sort_values(\"Date.Full\", kind='quicksort')"
      ]
    },
    {
      "cell_type": "markdown",
      "id": "51e2a8b4",
      "metadata": {
        "id": "51e2a8b4"
      },
      "source": [
        "Show the data"
      ]
    },
    {
      "cell_type": "code",
      "execution_count": null,
      "id": "83bffe72",
      "metadata": {
        "colab": {
          "base_uri": "https://localhost:8080/",
          "height": 244
        },
        "id": "83bffe72",
        "outputId": "4d19b0a7-bd80-4a18-ae4b-24cdabaf4f10"
      },
      "outputs": [
        {
          "output_type": "execute_result",
          "data": {
            "text/plain": [
              "      Data.Precipitation  Date.Full  Date.Month  Date.Week of  Date.Year  \\\n",
              "222                 0.00 2016-01-03           1             3       2016   \n",
              "537                 0.85 2016-01-10           1            10       2016   \n",
              "852                 0.53 2016-01-17           1            17       2016   \n",
              "1167                0.03 2016-01-24           1            24       2016   \n",
              "1482                0.06 2016-01-31           1            31       2016   \n",
              "\n",
              "     Station.City Station.Code Station.Location Station.State  \\\n",
              "222        Toledo          TOL       Toledo, OH          Ohio   \n",
              "537        Toledo          TOL       Toledo, OH          Ohio   \n",
              "852        Toledo          TOL       Toledo, OH          Ohio   \n",
              "1167       Toledo          TOL       Toledo, OH          Ohio   \n",
              "1482       Toledo          TOL       Toledo, OH          Ohio   \n",
              "\n",
              "      Data.Temperature.Avg Temp  Data.Temperature.Max Temp  \\\n",
              "222                          29                         31   \n",
              "537                          29                         39   \n",
              "852                          23                         30   \n",
              "1167                         17                         25   \n",
              "1482                         33                         43   \n",
              "\n",
              "      Data.Temperature.Min Temp  Data.Wind.Direction  Data.Wind.Speed  \n",
              "222                          25                   26            12.70  \n",
              "537                          19                   16             5.31  \n",
              "852                          16                   24            11.81  \n",
              "1167                          9                   18             7.87  \n",
              "1482                         27                   23            10.71  "
            ],
            "text/html": [
              "\n",
              "  <div id=\"df-a17c3740-7fa0-4884-8121-668023b4fb6e\" class=\"colab-df-container\">\n",
              "    <div>\n",
              "<style scoped>\n",
              "    .dataframe tbody tr th:only-of-type {\n",
              "        vertical-align: middle;\n",
              "    }\n",
              "\n",
              "    .dataframe tbody tr th {\n",
              "        vertical-align: top;\n",
              "    }\n",
              "\n",
              "    .dataframe thead th {\n",
              "        text-align: right;\n",
              "    }\n",
              "</style>\n",
              "<table border=\"1\" class=\"dataframe\">\n",
              "  <thead>\n",
              "    <tr style=\"text-align: right;\">\n",
              "      <th></th>\n",
              "      <th>Data.Precipitation</th>\n",
              "      <th>Date.Full</th>\n",
              "      <th>Date.Month</th>\n",
              "      <th>Date.Week of</th>\n",
              "      <th>Date.Year</th>\n",
              "      <th>Station.City</th>\n",
              "      <th>Station.Code</th>\n",
              "      <th>Station.Location</th>\n",
              "      <th>Station.State</th>\n",
              "      <th>Data.Temperature.Avg Temp</th>\n",
              "      <th>Data.Temperature.Max Temp</th>\n",
              "      <th>Data.Temperature.Min Temp</th>\n",
              "      <th>Data.Wind.Direction</th>\n",
              "      <th>Data.Wind.Speed</th>\n",
              "    </tr>\n",
              "  </thead>\n",
              "  <tbody>\n",
              "    <tr>\n",
              "      <th>222</th>\n",
              "      <td>0.00</td>\n",
              "      <td>2016-01-03</td>\n",
              "      <td>1</td>\n",
              "      <td>3</td>\n",
              "      <td>2016</td>\n",
              "      <td>Toledo</td>\n",
              "      <td>TOL</td>\n",
              "      <td>Toledo, OH</td>\n",
              "      <td>Ohio</td>\n",
              "      <td>29</td>\n",
              "      <td>31</td>\n",
              "      <td>25</td>\n",
              "      <td>26</td>\n",
              "      <td>12.70</td>\n",
              "    </tr>\n",
              "    <tr>\n",
              "      <th>537</th>\n",
              "      <td>0.85</td>\n",
              "      <td>2016-01-10</td>\n",
              "      <td>1</td>\n",
              "      <td>10</td>\n",
              "      <td>2016</td>\n",
              "      <td>Toledo</td>\n",
              "      <td>TOL</td>\n",
              "      <td>Toledo, OH</td>\n",
              "      <td>Ohio</td>\n",
              "      <td>29</td>\n",
              "      <td>39</td>\n",
              "      <td>19</td>\n",
              "      <td>16</td>\n",
              "      <td>5.31</td>\n",
              "    </tr>\n",
              "    <tr>\n",
              "      <th>852</th>\n",
              "      <td>0.53</td>\n",
              "      <td>2016-01-17</td>\n",
              "      <td>1</td>\n",
              "      <td>17</td>\n",
              "      <td>2016</td>\n",
              "      <td>Toledo</td>\n",
              "      <td>TOL</td>\n",
              "      <td>Toledo, OH</td>\n",
              "      <td>Ohio</td>\n",
              "      <td>23</td>\n",
              "      <td>30</td>\n",
              "      <td>16</td>\n",
              "      <td>24</td>\n",
              "      <td>11.81</td>\n",
              "    </tr>\n",
              "    <tr>\n",
              "      <th>1167</th>\n",
              "      <td>0.03</td>\n",
              "      <td>2016-01-24</td>\n",
              "      <td>1</td>\n",
              "      <td>24</td>\n",
              "      <td>2016</td>\n",
              "      <td>Toledo</td>\n",
              "      <td>TOL</td>\n",
              "      <td>Toledo, OH</td>\n",
              "      <td>Ohio</td>\n",
              "      <td>17</td>\n",
              "      <td>25</td>\n",
              "      <td>9</td>\n",
              "      <td>18</td>\n",
              "      <td>7.87</td>\n",
              "    </tr>\n",
              "    <tr>\n",
              "      <th>1482</th>\n",
              "      <td>0.06</td>\n",
              "      <td>2016-01-31</td>\n",
              "      <td>1</td>\n",
              "      <td>31</td>\n",
              "      <td>2016</td>\n",
              "      <td>Toledo</td>\n",
              "      <td>TOL</td>\n",
              "      <td>Toledo, OH</td>\n",
              "      <td>Ohio</td>\n",
              "      <td>33</td>\n",
              "      <td>43</td>\n",
              "      <td>27</td>\n",
              "      <td>23</td>\n",
              "      <td>10.71</td>\n",
              "    </tr>\n",
              "  </tbody>\n",
              "</table>\n",
              "</div>\n",
              "    <div class=\"colab-df-buttons\">\n",
              "\n",
              "  <div class=\"colab-df-container\">\n",
              "    <button class=\"colab-df-convert\" onclick=\"convertToInteractive('df-a17c3740-7fa0-4884-8121-668023b4fb6e')\"\n",
              "            title=\"Convert this dataframe to an interactive table.\"\n",
              "            style=\"display:none;\">\n",
              "\n",
              "  <svg xmlns=\"http://www.w3.org/2000/svg\" height=\"24px\" viewBox=\"0 -960 960 960\">\n",
              "    <path d=\"M120-120v-720h720v720H120Zm60-500h600v-160H180v160Zm220 220h160v-160H400v160Zm0 220h160v-160H400v160ZM180-400h160v-160H180v160Zm440 0h160v-160H620v160ZM180-180h160v-160H180v160Zm440 0h160v-160H620v160Z\"/>\n",
              "  </svg>\n",
              "    </button>\n",
              "\n",
              "  <style>\n",
              "    .colab-df-container {\n",
              "      display:flex;\n",
              "      gap: 12px;\n",
              "    }\n",
              "\n",
              "    .colab-df-convert {\n",
              "      background-color: #E8F0FE;\n",
              "      border: none;\n",
              "      border-radius: 50%;\n",
              "      cursor: pointer;\n",
              "      display: none;\n",
              "      fill: #1967D2;\n",
              "      height: 32px;\n",
              "      padding: 0 0 0 0;\n",
              "      width: 32px;\n",
              "    }\n",
              "\n",
              "    .colab-df-convert:hover {\n",
              "      background-color: #E2EBFA;\n",
              "      box-shadow: 0px 1px 2px rgba(60, 64, 67, 0.3), 0px 1px 3px 1px rgba(60, 64, 67, 0.15);\n",
              "      fill: #174EA6;\n",
              "    }\n",
              "\n",
              "    .colab-df-buttons div {\n",
              "      margin-bottom: 4px;\n",
              "    }\n",
              "\n",
              "    [theme=dark] .colab-df-convert {\n",
              "      background-color: #3B4455;\n",
              "      fill: #D2E3FC;\n",
              "    }\n",
              "\n",
              "    [theme=dark] .colab-df-convert:hover {\n",
              "      background-color: #434B5C;\n",
              "      box-shadow: 0px 1px 3px 1px rgba(0, 0, 0, 0.15);\n",
              "      filter: drop-shadow(0px 1px 2px rgba(0, 0, 0, 0.3));\n",
              "      fill: #FFFFFF;\n",
              "    }\n",
              "  </style>\n",
              "\n",
              "    <script>\n",
              "      const buttonEl =\n",
              "        document.querySelector('#df-a17c3740-7fa0-4884-8121-668023b4fb6e button.colab-df-convert');\n",
              "      buttonEl.style.display =\n",
              "        google.colab.kernel.accessAllowed ? 'block' : 'none';\n",
              "\n",
              "      async function convertToInteractive(key) {\n",
              "        const element = document.querySelector('#df-a17c3740-7fa0-4884-8121-668023b4fb6e');\n",
              "        const dataTable =\n",
              "          await google.colab.kernel.invokeFunction('convertToInteractive',\n",
              "                                                    [key], {});\n",
              "        if (!dataTable) return;\n",
              "\n",
              "        const docLinkHtml = 'Like what you see? Visit the ' +\n",
              "          '<a target=\"_blank\" href=https://colab.research.google.com/notebooks/data_table.ipynb>data table notebook</a>'\n",
              "          + ' to learn more about interactive tables.';\n",
              "        element.innerHTML = '';\n",
              "        dataTable['output_type'] = 'display_data';\n",
              "        await google.colab.output.renderOutput(dataTable, element);\n",
              "        const docLink = document.createElement('div');\n",
              "        docLink.innerHTML = docLinkHtml;\n",
              "        element.appendChild(docLink);\n",
              "      }\n",
              "    </script>\n",
              "  </div>\n",
              "\n",
              "\n",
              "    <div id=\"df-0e5349a3-02e5-47da-b237-f82515d5b3b1\">\n",
              "      <button class=\"colab-df-quickchart\" onclick=\"quickchart('df-0e5349a3-02e5-47da-b237-f82515d5b3b1')\"\n",
              "                title=\"Suggest charts\"\n",
              "                style=\"display:none;\">\n",
              "\n",
              "<svg xmlns=\"http://www.w3.org/2000/svg\" height=\"24px\"viewBox=\"0 0 24 24\"\n",
              "     width=\"24px\">\n",
              "    <g>\n",
              "        <path d=\"M19 3H5c-1.1 0-2 .9-2 2v14c0 1.1.9 2 2 2h14c1.1 0 2-.9 2-2V5c0-1.1-.9-2-2-2zM9 17H7v-7h2v7zm4 0h-2V7h2v10zm4 0h-2v-4h2v4z\"/>\n",
              "    </g>\n",
              "</svg>\n",
              "      </button>\n",
              "\n",
              "<style>\n",
              "  .colab-df-quickchart {\n",
              "      --bg-color: #E8F0FE;\n",
              "      --fill-color: #1967D2;\n",
              "      --hover-bg-color: #E2EBFA;\n",
              "      --hover-fill-color: #174EA6;\n",
              "      --disabled-fill-color: #AAA;\n",
              "      --disabled-bg-color: #DDD;\n",
              "  }\n",
              "\n",
              "  [theme=dark] .colab-df-quickchart {\n",
              "      --bg-color: #3B4455;\n",
              "      --fill-color: #D2E3FC;\n",
              "      --hover-bg-color: #434B5C;\n",
              "      --hover-fill-color: #FFFFFF;\n",
              "      --disabled-bg-color: #3B4455;\n",
              "      --disabled-fill-color: #666;\n",
              "  }\n",
              "\n",
              "  .colab-df-quickchart {\n",
              "    background-color: var(--bg-color);\n",
              "    border: none;\n",
              "    border-radius: 50%;\n",
              "    cursor: pointer;\n",
              "    display: none;\n",
              "    fill: var(--fill-color);\n",
              "    height: 32px;\n",
              "    padding: 0;\n",
              "    width: 32px;\n",
              "  }\n",
              "\n",
              "  .colab-df-quickchart:hover {\n",
              "    background-color: var(--hover-bg-color);\n",
              "    box-shadow: 0 1px 2px rgba(60, 64, 67, 0.3), 0 1px 3px 1px rgba(60, 64, 67, 0.15);\n",
              "    fill: var(--button-hover-fill-color);\n",
              "  }\n",
              "\n",
              "  .colab-df-quickchart-complete:disabled,\n",
              "  .colab-df-quickchart-complete:disabled:hover {\n",
              "    background-color: var(--disabled-bg-color);\n",
              "    fill: var(--disabled-fill-color);\n",
              "    box-shadow: none;\n",
              "  }\n",
              "\n",
              "  .colab-df-spinner {\n",
              "    border: 2px solid var(--fill-color);\n",
              "    border-color: transparent;\n",
              "    border-bottom-color: var(--fill-color);\n",
              "    animation:\n",
              "      spin 1s steps(1) infinite;\n",
              "  }\n",
              "\n",
              "  @keyframes spin {\n",
              "    0% {\n",
              "      border-color: transparent;\n",
              "      border-bottom-color: var(--fill-color);\n",
              "      border-left-color: var(--fill-color);\n",
              "    }\n",
              "    20% {\n",
              "      border-color: transparent;\n",
              "      border-left-color: var(--fill-color);\n",
              "      border-top-color: var(--fill-color);\n",
              "    }\n",
              "    30% {\n",
              "      border-color: transparent;\n",
              "      border-left-color: var(--fill-color);\n",
              "      border-top-color: var(--fill-color);\n",
              "      border-right-color: var(--fill-color);\n",
              "    }\n",
              "    40% {\n",
              "      border-color: transparent;\n",
              "      border-right-color: var(--fill-color);\n",
              "      border-top-color: var(--fill-color);\n",
              "    }\n",
              "    60% {\n",
              "      border-color: transparent;\n",
              "      border-right-color: var(--fill-color);\n",
              "    }\n",
              "    80% {\n",
              "      border-color: transparent;\n",
              "      border-right-color: var(--fill-color);\n",
              "      border-bottom-color: var(--fill-color);\n",
              "    }\n",
              "    90% {\n",
              "      border-color: transparent;\n",
              "      border-bottom-color: var(--fill-color);\n",
              "    }\n",
              "  }\n",
              "</style>\n",
              "\n",
              "      <script>\n",
              "        async function quickchart(key) {\n",
              "          const quickchartButtonEl =\n",
              "            document.querySelector('#' + key + ' button');\n",
              "          quickchartButtonEl.disabled = true;  // To prevent multiple clicks.\n",
              "          quickchartButtonEl.classList.add('colab-df-spinner');\n",
              "          try {\n",
              "            const charts = await google.colab.kernel.invokeFunction(\n",
              "                'suggestCharts', [key], {});\n",
              "          } catch (error) {\n",
              "            console.error('Error during call to suggestCharts:', error);\n",
              "          }\n",
              "          quickchartButtonEl.classList.remove('colab-df-spinner');\n",
              "          quickchartButtonEl.classList.add('colab-df-quickchart-complete');\n",
              "        }\n",
              "        (() => {\n",
              "          let quickchartButtonEl =\n",
              "            document.querySelector('#df-0e5349a3-02e5-47da-b237-f82515d5b3b1 button');\n",
              "          quickchartButtonEl.style.display =\n",
              "            google.colab.kernel.accessAllowed ? 'block' : 'none';\n",
              "        })();\n",
              "      </script>\n",
              "    </div>\n",
              "\n",
              "    </div>\n",
              "  </div>\n"
            ],
            "application/vnd.google.colaboratory.intrinsic+json": {
              "type": "dataframe",
              "variable_name": "city_df",
              "summary": "{\n  \"name\": \"city_df\",\n  \"rows\": 53,\n  \"fields\": [\n    {\n      \"column\": \"Data.Precipitation\",\n      \"properties\": {\n        \"dtype\": \"number\",\n        \"std\": 0.5785691900648597,\n        \"min\": 0.0,\n        \"max\": 2.42,\n        \"num_unique_values\": 43,\n        \"samples\": [\n          1.22,\n          0.93,\n          0.16\n        ],\n        \"semantic_type\": \"\",\n        \"description\": \"\"\n      }\n    },\n    {\n      \"column\": \"Date.Full\",\n      \"properties\": {\n        \"dtype\": \"date\",\n        \"min\": \"2016-01-03 00:00:00\",\n        \"max\": \"2017-01-01 00:00:00\",\n        \"num_unique_values\": 53,\n        \"samples\": [\n          \"2016-05-15 00:00:00\",\n          \"2016-10-16 00:00:00\",\n          \"2016-11-27 00:00:00\"\n        ],\n        \"semantic_type\": \"\",\n        \"description\": \"\"\n      }\n    },\n    {\n      \"column\": \"Date.Month\",\n      \"properties\": {\n        \"dtype\": \"number\",\n        \"std\": 3,\n        \"min\": 1,\n        \"max\": 12,\n        \"num_unique_values\": 12,\n        \"samples\": [\n          11,\n          10,\n          1\n        ],\n        \"semantic_type\": \"\",\n        \"description\": \"\"\n      }\n    },\n    {\n      \"column\": \"Date.Week of\",\n      \"properties\": {\n        \"dtype\": \"number\",\n        \"std\": 9,\n        \"min\": 1,\n        \"max\": 31,\n        \"num_unique_values\": 31,\n        \"samples\": [\n          9,\n          15,\n          11\n        ],\n        \"semantic_type\": \"\",\n        \"description\": \"\"\n      }\n    },\n    {\n      \"column\": \"Date.Year\",\n      \"properties\": {\n        \"dtype\": \"number\",\n        \"std\": 0,\n        \"min\": 2016,\n        \"max\": 2017,\n        \"num_unique_values\": 2,\n        \"samples\": [\n          2017,\n          2016\n        ],\n        \"semantic_type\": \"\",\n        \"description\": \"\"\n      }\n    },\n    {\n      \"column\": \"Station.City\",\n      \"properties\": {\n        \"dtype\": \"category\",\n        \"num_unique_values\": 1,\n        \"samples\": [\n          \"Toledo\"\n        ],\n        \"semantic_type\": \"\",\n        \"description\": \"\"\n      }\n    },\n    {\n      \"column\": \"Station.Code\",\n      \"properties\": {\n        \"dtype\": \"category\",\n        \"num_unique_values\": 1,\n        \"samples\": [\n          \"TOL\"\n        ],\n        \"semantic_type\": \"\",\n        \"description\": \"\"\n      }\n    },\n    {\n      \"column\": \"Station.Location\",\n      \"properties\": {\n        \"dtype\": \"category\",\n        \"num_unique_values\": 1,\n        \"samples\": [\n          \"Toledo, OH\"\n        ],\n        \"semantic_type\": \"\",\n        \"description\": \"\"\n      }\n    },\n    {\n      \"column\": \"Station.State\",\n      \"properties\": {\n        \"dtype\": \"category\",\n        \"num_unique_values\": 1,\n        \"samples\": [\n          \"Ohio\"\n        ],\n        \"semantic_type\": \"\",\n        \"description\": \"\"\n      }\n    },\n    {\n      \"column\": \"Data.Temperature.Avg Temp\",\n      \"properties\": {\n        \"dtype\": \"number\",\n        \"std\": 18,\n        \"min\": 16,\n        \"max\": 78,\n        \"num_unique_values\": 35,\n        \"samples\": [\n          67\n        ],\n        \"semantic_type\": \"\",\n        \"description\": \"\"\n      }\n    },\n    {\n      \"column\": \"Data.Temperature.Max Temp\",\n      \"properties\": {\n        \"dtype\": \"number\",\n        \"std\": 20,\n        \"min\": 23,\n        \"max\": 88,\n        \"num_unique_values\": 33,\n        \"samples\": [\n          23\n        ],\n        \"semantic_type\": \"\",\n        \"description\": \"\"\n      }\n    },\n    {\n      \"column\": \"Data.Temperature.Min Temp\",\n      \"properties\": {\n        \"dtype\": \"number\",\n        \"std\": 16,\n        \"min\": 9,\n        \"max\": 68,\n        \"num_unique_values\": 39,\n        \"samples\": [\n          49\n        ],\n        \"semantic_type\": \"\",\n        \"description\": \"\"\n      }\n    },\n    {\n      \"column\": \"Data.Wind.Direction\",\n      \"properties\": {\n        \"dtype\": \"number\",\n        \"std\": 5,\n        \"min\": 4,\n        \"max\": 27,\n        \"num_unique_values\": 18,\n        \"samples\": [\n          26\n        ],\n        \"semantic_type\": \"\",\n        \"description\": \"\"\n      }\n    },\n    {\n      \"column\": \"Data.Wind.Speed\",\n      \"properties\": {\n        \"dtype\": \"number\",\n        \"std\": 2.6082106734831463,\n        \"min\": 2.5,\n        \"max\": 12.7,\n        \"num_unique_values\": 52,\n        \"samples\": [\n          8.64\n        ],\n        \"semantic_type\": \"\",\n        \"description\": \"\"\n      }\n    }\n  ]\n}"
            }
          },
          "metadata": {},
          "execution_count": 6
        }
      ],
      "source": [
        "city_df.head()"
      ]
    },
    {
      "cell_type": "markdown",
      "id": "33e73c7d",
      "metadata": {
        "id": "33e73c7d"
      },
      "source": [
        "Normalize average temperature"
      ]
    },
    {
      "cell_type": "code",
      "execution_count": null,
      "id": "561b3698",
      "metadata": {
        "id": "561b3698"
      },
      "outputs": [],
      "source": [
        "scaler = MinMaxScaler()\n",
        "city_df[\"ScaledTemp\"] = scaler.fit_transform(city_df[[\"Data.Temperature.Avg Temp\"]])"
      ]
    },
    {
      "cell_type": "code",
      "execution_count": null,
      "id": "hkegmpWBISQ5",
      "metadata": {
        "colab": {
          "base_uri": "https://localhost:8080/",
          "height": 241
        },
        "id": "hkegmpWBISQ5",
        "outputId": "e7a8855f-9f70-4e93-830e-0dd432b02c2e"
      },
      "outputs": [
        {
          "output_type": "execute_result",
          "data": {
            "text/plain": [
              "222     0.209677\n",
              "537     0.209677\n",
              "852     0.112903\n",
              "1167    0.016129\n",
              "1482    0.274194\n",
              "Name: ScaledTemp, dtype: float64"
            ],
            "text/html": [
              "<div>\n",
              "<style scoped>\n",
              "    .dataframe tbody tr th:only-of-type {\n",
              "        vertical-align: middle;\n",
              "    }\n",
              "\n",
              "    .dataframe tbody tr th {\n",
              "        vertical-align: top;\n",
              "    }\n",
              "\n",
              "    .dataframe thead th {\n",
              "        text-align: right;\n",
              "    }\n",
              "</style>\n",
              "<table border=\"1\" class=\"dataframe\">\n",
              "  <thead>\n",
              "    <tr style=\"text-align: right;\">\n",
              "      <th></th>\n",
              "      <th>ScaledTemp</th>\n",
              "    </tr>\n",
              "  </thead>\n",
              "  <tbody>\n",
              "    <tr>\n",
              "      <th>222</th>\n",
              "      <td>0.209677</td>\n",
              "    </tr>\n",
              "    <tr>\n",
              "      <th>537</th>\n",
              "      <td>0.209677</td>\n",
              "    </tr>\n",
              "    <tr>\n",
              "      <th>852</th>\n",
              "      <td>0.112903</td>\n",
              "    </tr>\n",
              "    <tr>\n",
              "      <th>1167</th>\n",
              "      <td>0.016129</td>\n",
              "    </tr>\n",
              "    <tr>\n",
              "      <th>1482</th>\n",
              "      <td>0.274194</td>\n",
              "    </tr>\n",
              "  </tbody>\n",
              "</table>\n",
              "</div><br><label><b>dtype:</b> float64</label>"
            ]
          },
          "metadata": {},
          "execution_count": 8
        }
      ],
      "source": [
        "city_df[\"ScaledTemp\"].head()"
      ]
    },
    {
      "cell_type": "markdown",
      "id": "2ccd2b41",
      "metadata": {
        "id": "2ccd2b41"
      },
      "source": [
        "Create sequence"
      ]
    },
    {
      "cell_type": "code",
      "execution_count": null,
      "id": "12610fd2",
      "metadata": {
        "id": "12610fd2"
      },
      "outputs": [],
      "source": [
        "sequence_length = 2\n",
        "X, y = [], []\n",
        "temps = city_df[\"ScaledTemp\"].values\n",
        "\n",
        "for i in range(len(temps) - sequence_length):\n",
        "    X.append(temps[i:i + sequence_length])\n",
        "    y.append(temps[i + sequence_length])\n",
        "\n",
        "X = np.array(X)\n",
        "y = np.array(y)\n",
        "X = X.reshape((X.shape[0], X.shape[1], 1))"
      ]
    },
    {
      "cell_type": "markdown",
      "id": "c2fbd963",
      "metadata": {
        "id": "c2fbd963"
      },
      "source": [
        "Split train/test"
      ]
    },
    {
      "cell_type": "code",
      "execution_count": null,
      "id": "dee7fab4",
      "metadata": {
        "id": "dee7fab4"
      },
      "outputs": [],
      "source": [
        "X_train, X_test, y_train, y_test = train_test_split(X, y, test_size=0.2, shuffle=False)"
      ]
    },
    {
      "cell_type": "markdown",
      "id": "c8ce18c7",
      "metadata": {
        "id": "c8ce18c7"
      },
      "source": [
        "Build RNN model"
      ]
    },
    {
      "cell_type": "code",
      "execution_count": null,
      "id": "35a54f74",
      "metadata": {
        "colab": {
          "base_uri": "https://localhost:8080/"
        },
        "id": "35a54f74",
        "outputId": "6997ec43-44a2-4d6c-e854-14788ebb744b"
      },
      "outputs": [
        {
          "output_type": "stream",
          "name": "stderr",
          "text": [
            "/usr/local/lib/python3.11/dist-packages/keras/src/layers/rnn/rnn.py:200: UserWarning: Do not pass an `input_shape`/`input_dim` argument to a layer. When using Sequential models, prefer using an `Input(shape)` object as the first layer in the model instead.\n",
            "  super().__init__(**kwargs)\n"
          ]
        }
      ],
      "source": [
        "model = Sequential([\n",
        "    SimpleRNN(64, activation='tanh', return_sequences=True, input_shape=(sequence_length, 1)),\n",
        "    Dropout(0.2),\n",
        "    SimpleRNN(32, activation='tanh'),\n",
        "    Dropout(0.2),\n",
        "    Dense(1)\n",
        "])\n",
        "\n",
        "model.compile(optimizer=Adam(learning_rate=0.001), loss='mse')"
      ]
    },
    {
      "cell_type": "markdown",
      "id": "1cd6273d",
      "metadata": {
        "id": "1cd6273d"
      },
      "source": [
        "Train model"
      ]
    },
    {
      "cell_type": "code",
      "execution_count": null,
      "id": "051ba4fd",
      "metadata": {
        "colab": {
          "base_uri": "https://localhost:8080/"
        },
        "id": "051ba4fd",
        "outputId": "8b91f2fb-dd21-4181-edd2-607d005d0dc2"
      },
      "outputs": [
        {
          "output_type": "stream",
          "name": "stdout",
          "text": [
            "Epoch 1/50\n",
            "\u001b[1m2/2\u001b[0m \u001b[32m━━━━━━━━━━━━━━━━━━━━\u001b[0m\u001b[37m\u001b[0m \u001b[1m4s\u001b[0m 513ms/step - loss: 1.1222 - val_loss: 0.1034\n",
            "Epoch 2/50\n",
            "\u001b[1m2/2\u001b[0m \u001b[32m━━━━━━━━━━━━━━━━━━━━\u001b[0m\u001b[37m\u001b[0m \u001b[1m0s\u001b[0m 70ms/step - loss: 0.3884 - val_loss: 0.0229\n",
            "Epoch 3/50\n",
            "\u001b[1m2/2\u001b[0m \u001b[32m━━━━━━━━━━━━━━━━━━━━\u001b[0m\u001b[37m\u001b[0m \u001b[1m0s\u001b[0m 72ms/step - loss: 0.1271 - val_loss: 0.1150\n",
            "Epoch 4/50\n",
            "\u001b[1m2/2\u001b[0m \u001b[32m━━━━━━━━━━━━━━━━━━━━\u001b[0m\u001b[37m\u001b[0m \u001b[1m0s\u001b[0m 73ms/step - loss: 0.0976 - val_loss: 0.2484\n",
            "Epoch 5/50\n",
            "\u001b[1m2/2\u001b[0m \u001b[32m━━━━━━━━━━━━━━━━━━━━\u001b[0m\u001b[37m\u001b[0m \u001b[1m0s\u001b[0m 68ms/step - loss: 0.2651 - val_loss: 0.3031\n",
            "Epoch 6/50\n",
            "\u001b[1m2/2\u001b[0m \u001b[32m━━━━━━━━━━━━━━━━━━━━\u001b[0m\u001b[37m\u001b[0m \u001b[1m0s\u001b[0m 68ms/step - loss: 0.2040 - val_loss: 0.2698\n",
            "Epoch 7/50\n",
            "\u001b[1m2/2\u001b[0m \u001b[32m━━━━━━━━━━━━━━━━━━━━\u001b[0m\u001b[37m\u001b[0m \u001b[1m0s\u001b[0m 67ms/step - loss: 0.2432 - val_loss: 0.1916\n",
            "Epoch 8/50\n",
            "\u001b[1m2/2\u001b[0m \u001b[32m━━━━━━━━━━━━━━━━━━━━\u001b[0m\u001b[37m\u001b[0m \u001b[1m0s\u001b[0m 70ms/step - loss: 0.1437 - val_loss: 0.1095\n",
            "Epoch 9/50\n",
            "\u001b[1m2/2\u001b[0m \u001b[32m━━━━━━━━━━━━━━━━━━━━\u001b[0m\u001b[37m\u001b[0m \u001b[1m0s\u001b[0m 66ms/step - loss: 0.1240 - val_loss: 0.0515\n",
            "Epoch 10/50\n",
            "\u001b[1m2/2\u001b[0m \u001b[32m━━━━━━━━━━━━━━━━━━━━\u001b[0m\u001b[37m\u001b[0m \u001b[1m0s\u001b[0m 68ms/step - loss: 0.0731 - val_loss: 0.0268\n",
            "Epoch 11/50\n",
            "\u001b[1m2/2\u001b[0m \u001b[32m━━━━━━━━━━━━━━━━━━━━\u001b[0m\u001b[37m\u001b[0m \u001b[1m0s\u001b[0m 67ms/step - loss: 0.0780 - val_loss: 0.0199\n",
            "Epoch 12/50\n",
            "\u001b[1m2/2\u001b[0m \u001b[32m━━━━━━━━━━━━━━━━━━━━\u001b[0m\u001b[37m\u001b[0m \u001b[1m0s\u001b[0m 81ms/step - loss: 0.1507 - val_loss: 0.0191\n",
            "Epoch 13/50\n",
            "\u001b[1m2/2\u001b[0m \u001b[32m━━━━━━━━━━━━━━━━━━━━\u001b[0m\u001b[37m\u001b[0m \u001b[1m0s\u001b[0m 111ms/step - loss: 0.1082 - val_loss: 0.0191\n",
            "Epoch 14/50\n",
            "\u001b[1m2/2\u001b[0m \u001b[32m━━━━━━━━━━━━━━━━━━━━\u001b[0m\u001b[37m\u001b[0m \u001b[1m0s\u001b[0m 68ms/step - loss: 0.0860 - val_loss: 0.0204\n",
            "Epoch 15/50\n",
            "\u001b[1m2/2\u001b[0m \u001b[32m━━━━━━━━━━━━━━━━━━━━\u001b[0m\u001b[37m\u001b[0m \u001b[1m0s\u001b[0m 69ms/step - loss: 0.0888 - val_loss: 0.0241\n",
            "Epoch 16/50\n",
            "\u001b[1m2/2\u001b[0m \u001b[32m━━━━━━━━━━━━━━━━━━━━\u001b[0m\u001b[37m\u001b[0m \u001b[1m0s\u001b[0m 67ms/step - loss: 0.0785 - val_loss: 0.0321\n",
            "Epoch 17/50\n",
            "\u001b[1m2/2\u001b[0m \u001b[32m━━━━━━━━━━━━━━━━━━━━\u001b[0m\u001b[37m\u001b[0m \u001b[1m0s\u001b[0m 69ms/step - loss: 0.0575 - val_loss: 0.0424\n",
            "Epoch 18/50\n",
            "\u001b[1m2/2\u001b[0m \u001b[32m━━━━━━━━━━━━━━━━━━━━\u001b[0m\u001b[37m\u001b[0m \u001b[1m0s\u001b[0m 68ms/step - loss: 0.0696 - val_loss: 0.0519\n",
            "Epoch 19/50\n",
            "\u001b[1m2/2\u001b[0m \u001b[32m━━━━━━━━━━━━━━━━━━━━\u001b[0m\u001b[37m\u001b[0m \u001b[1m0s\u001b[0m 72ms/step - loss: 0.0773 - val_loss: 0.0588\n",
            "Epoch 20/50\n",
            "\u001b[1m2/2\u001b[0m \u001b[32m━━━━━━━━━━━━━━━━━━━━\u001b[0m\u001b[37m\u001b[0m \u001b[1m0s\u001b[0m 107ms/step - loss: 0.0743 - val_loss: 0.0588\n",
            "Epoch 21/50\n",
            "\u001b[1m2/2\u001b[0m \u001b[32m━━━━━━━━━━━━━━━━━━━━\u001b[0m\u001b[37m\u001b[0m \u001b[1m0s\u001b[0m 121ms/step - loss: 0.0634 - val_loss: 0.0547\n",
            "Epoch 22/50\n",
            "\u001b[1m2/2\u001b[0m \u001b[32m━━━━━━━━━━━━━━━━━━━━\u001b[0m\u001b[37m\u001b[0m \u001b[1m0s\u001b[0m 134ms/step - loss: 0.0564 - val_loss: 0.0471\n",
            "Epoch 23/50\n",
            "\u001b[1m2/2\u001b[0m \u001b[32m━━━━━━━━━━━━━━━━━━━━\u001b[0m\u001b[37m\u001b[0m \u001b[1m0s\u001b[0m 129ms/step - loss: 0.0603 - val_loss: 0.0371\n",
            "Epoch 24/50\n",
            "\u001b[1m2/2\u001b[0m \u001b[32m━━━━━━━━━━━━━━━━━━━━\u001b[0m\u001b[37m\u001b[0m \u001b[1m0s\u001b[0m 129ms/step - loss: 0.0425 - val_loss: 0.0284\n",
            "Epoch 25/50\n",
            "\u001b[1m2/2\u001b[0m \u001b[32m━━━━━━━━━━━━━━━━━━━━\u001b[0m\u001b[37m\u001b[0m \u001b[1m0s\u001b[0m 119ms/step - loss: 0.0461 - val_loss: 0.0246\n",
            "Epoch 26/50\n",
            "\u001b[1m2/2\u001b[0m \u001b[32m━━━━━━━━━━━━━━━━━━━━\u001b[0m\u001b[37m\u001b[0m \u001b[1m0s\u001b[0m 133ms/step - loss: 0.0479 - val_loss: 0.0238\n",
            "Epoch 27/50\n",
            "\u001b[1m2/2\u001b[0m \u001b[32m━━━━━━━━━━━━━━━━━━━━\u001b[0m\u001b[37m\u001b[0m \u001b[1m0s\u001b[0m 101ms/step - loss: 0.0651 - val_loss: 0.0246\n",
            "Epoch 28/50\n",
            "\u001b[1m2/2\u001b[0m \u001b[32m━━━━━━━━━━━━━━━━━━━━\u001b[0m\u001b[37m\u001b[0m \u001b[1m0s\u001b[0m 146ms/step - loss: 0.0466 - val_loss: 0.0270\n",
            "Epoch 29/50\n",
            "\u001b[1m2/2\u001b[0m \u001b[32m━━━━━━━━━━━━━━━━━━━━\u001b[0m\u001b[37m\u001b[0m \u001b[1m0s\u001b[0m 148ms/step - loss: 0.0659 - val_loss: 0.0335\n",
            "Epoch 30/50\n",
            "\u001b[1m2/2\u001b[0m \u001b[32m━━━━━━━━━━━━━━━━━━━━\u001b[0m\u001b[37m\u001b[0m \u001b[1m0s\u001b[0m 68ms/step - loss: 0.0629 - val_loss: 0.0401\n",
            "Epoch 31/50\n",
            "\u001b[1m2/2\u001b[0m \u001b[32m━━━━━━━━━━━━━━━━━━━━\u001b[0m\u001b[37m\u001b[0m \u001b[1m0s\u001b[0m 68ms/step - loss: 0.0561 - val_loss: 0.0449\n",
            "Epoch 32/50\n",
            "\u001b[1m2/2\u001b[0m \u001b[32m━━━━━━━━━━━━━━━━━━━━\u001b[0m\u001b[37m\u001b[0m \u001b[1m0s\u001b[0m 67ms/step - loss: 0.0489 - val_loss: 0.0471\n",
            "Epoch 33/50\n",
            "\u001b[1m2/2\u001b[0m \u001b[32m━━━━━━━━━━━━━━━━━━━━\u001b[0m\u001b[37m\u001b[0m \u001b[1m0s\u001b[0m 68ms/step - loss: 0.0681 - val_loss: 0.0460\n",
            "Epoch 34/50\n",
            "\u001b[1m2/2\u001b[0m \u001b[32m━━━━━━━━━━━━━━━━━━━━\u001b[0m\u001b[37m\u001b[0m \u001b[1m0s\u001b[0m 74ms/step - loss: 0.0666 - val_loss: 0.0413\n",
            "Epoch 35/50\n",
            "\u001b[1m2/2\u001b[0m \u001b[32m━━━━━━━━━━━━━━━━━━━━\u001b[0m\u001b[37m\u001b[0m \u001b[1m0s\u001b[0m 68ms/step - loss: 0.0596 - val_loss: 0.0364\n",
            "Epoch 36/50\n",
            "\u001b[1m2/2\u001b[0m \u001b[32m━━━━━━━━━━━━━━━━━━━━\u001b[0m\u001b[37m\u001b[0m \u001b[1m0s\u001b[0m 80ms/step - loss: 0.0506 - val_loss: 0.0328\n",
            "Epoch 37/50\n",
            "\u001b[1m2/2\u001b[0m \u001b[32m━━━━━━━━━━━━━━━━━━━━\u001b[0m\u001b[37m\u001b[0m \u001b[1m0s\u001b[0m 69ms/step - loss: 0.0413 - val_loss: 0.0302\n",
            "Epoch 38/50\n",
            "\u001b[1m2/2\u001b[0m \u001b[32m━━━━━━━━━━━━━━━━━━━━\u001b[0m\u001b[37m\u001b[0m \u001b[1m0s\u001b[0m 68ms/step - loss: 0.0500 - val_loss: 0.0274\n",
            "Epoch 39/50\n",
            "\u001b[1m2/2\u001b[0m \u001b[32m━━━━━━━━━━━━━━━━━━━━\u001b[0m\u001b[37m\u001b[0m \u001b[1m0s\u001b[0m 69ms/step - loss: 0.0512 - val_loss: 0.0257\n",
            "Epoch 40/50\n",
            "\u001b[1m2/2\u001b[0m \u001b[32m━━━━━━━━━━━━━━━━━━━━\u001b[0m\u001b[37m\u001b[0m \u001b[1m0s\u001b[0m 67ms/step - loss: 0.0643 - val_loss: 0.0246\n",
            "Epoch 41/50\n",
            "\u001b[1m2/2\u001b[0m \u001b[32m━━━━━━━━━━━━━━━━━━━━\u001b[0m\u001b[37m\u001b[0m \u001b[1m0s\u001b[0m 68ms/step - loss: 0.0620 - val_loss: 0.0263\n",
            "Epoch 42/50\n",
            "\u001b[1m2/2\u001b[0m \u001b[32m━━━━━━━━━━━━━━━━━━━━\u001b[0m\u001b[37m\u001b[0m \u001b[1m0s\u001b[0m 110ms/step - loss: 0.0407 - val_loss: 0.0302\n",
            "Epoch 43/50\n",
            "\u001b[1m2/2\u001b[0m \u001b[32m━━━━━━━━━━━━━━━━━━━━\u001b[0m\u001b[37m\u001b[0m \u001b[1m0s\u001b[0m 67ms/step - loss: 0.0418 - val_loss: 0.0330\n",
            "Epoch 44/50\n",
            "\u001b[1m2/2\u001b[0m \u001b[32m━━━━━━━━━━━━━━━━━━━━\u001b[0m\u001b[37m\u001b[0m \u001b[1m0s\u001b[0m 107ms/step - loss: 0.0604 - val_loss: 0.0337\n",
            "Epoch 45/50\n",
            "\u001b[1m2/2\u001b[0m \u001b[32m━━━━━━━━━━━━━━━━━━━━\u001b[0m\u001b[37m\u001b[0m \u001b[1m0s\u001b[0m 68ms/step - loss: 0.0454 - val_loss: 0.0380\n",
            "Epoch 46/50\n",
            "\u001b[1m2/2\u001b[0m \u001b[32m━━━━━━━━━━━━━━━━━━━━\u001b[0m\u001b[37m\u001b[0m \u001b[1m0s\u001b[0m 67ms/step - loss: 0.0566 - val_loss: 0.0446\n",
            "Epoch 47/50\n",
            "\u001b[1m2/2\u001b[0m \u001b[32m━━━━━━━━━━━━━━━━━━━━\u001b[0m\u001b[37m\u001b[0m \u001b[1m0s\u001b[0m 69ms/step - loss: 0.0560 - val_loss: 0.0485\n",
            "Epoch 48/50\n",
            "\u001b[1m2/2\u001b[0m \u001b[32m━━━━━━━━━━━━━━━━━━━━\u001b[0m\u001b[37m\u001b[0m \u001b[1m0s\u001b[0m 67ms/step - loss: 0.0399 - val_loss: 0.0443\n",
            "Epoch 49/50\n",
            "\u001b[1m2/2\u001b[0m \u001b[32m━━━━━━━━━━━━━━━━━━━━\u001b[0m\u001b[37m\u001b[0m \u001b[1m0s\u001b[0m 68ms/step - loss: 0.0429 - val_loss: 0.0360\n",
            "Epoch 50/50\n",
            "\u001b[1m2/2\u001b[0m \u001b[32m━━━━━━━━━━━━━━━━━━━━\u001b[0m\u001b[37m\u001b[0m \u001b[1m0s\u001b[0m 66ms/step - loss: 0.0500 - val_loss: 0.0291\n"
          ]
        },
        {
          "output_type": "execute_result",
          "data": {
            "text/plain": [
              "<keras.src.callbacks.history.History at 0x7f22cbfb42d0>"
            ]
          },
          "metadata": {},
          "execution_count": 12
        }
      ],
      "source": [
        "model.fit(X_train, y_train, epochs=50, validation_data=(X_test, y_test), verbose=1)"
      ]
    },
    {
      "cell_type": "markdown",
      "id": "1015d252",
      "metadata": {
        "id": "1015d252"
      },
      "source": [
        "Predict"
      ]
    },
    {
      "cell_type": "code",
      "execution_count": null,
      "id": "b1d15c0a",
      "metadata": {
        "colab": {
          "base_uri": "https://localhost:8080/"
        },
        "id": "b1d15c0a",
        "outputId": "3f788704-2f35-45af-b62b-db69ddcf5c0f"
      },
      "outputs": [
        {
          "output_type": "stream",
          "name": "stdout",
          "text": [
            "\u001b[1m1/1\u001b[0m \u001b[32m━━━━━━━━━━━━━━━━━━━━\u001b[0m\u001b[37m\u001b[0m \u001b[1m0s\u001b[0m 274ms/step\n"
          ]
        }
      ],
      "source": [
        "predictions = model.predict(X_test)"
      ]
    },
    {
      "cell_type": "markdown",
      "id": "w785xyG6Lzhu",
      "metadata": {
        "id": "w785xyG6Lzhu"
      },
      "source": [
        "Inverse scale predictions and actual values"
      ]
    },
    {
      "cell_type": "code",
      "execution_count": null,
      "id": "y2p-6PxnLyp5",
      "metadata": {
        "id": "y2p-6PxnLyp5"
      },
      "outputs": [],
      "source": [
        "y_pred = scaler.inverse_transform(predictions)\n",
        "y_true = scaler.inverse_transform(y_test.reshape(-1, 1))"
      ]
    },
    {
      "cell_type": "markdown",
      "id": "mwop13HmMALb",
      "metadata": {
        "id": "mwop13HmMALb"
      },
      "source": [
        "Evaluate using regression metrics"
      ]
    },
    {
      "cell_type": "code",
      "execution_count": null,
      "id": "FhttrZyfMA2i",
      "metadata": {
        "colab": {
          "base_uri": "https://localhost:8080/"
        },
        "id": "FhttrZyfMA2i",
        "outputId": "4d2ffea6-c21e-4ebf-b120-bb84a7747115"
      },
      "outputs": [
        {
          "output_type": "stream",
          "name": "stdout",
          "text": [
            "\n",
            "Evaluation Metrics:\n",
            "Mean Squared Error (MSE): 111.83\n",
            "Mean Absolute Error (MAE): 9.01\n",
            "Root Mean Squared Error (RMSE): 10.57\n",
            "R² Score: 0.2725\n"
          ]
        }
      ],
      "source": [
        "mse = mean_squared_error(y_true, y_pred)\n",
        "mae = mean_absolute_error(y_true, y_pred)\n",
        "rmse = np.sqrt(mse)\n",
        "r2 = r2_score(y_true, y_pred)\n",
        "\n",
        "print(\"\\nEvaluation Metrics:\")\n",
        "print(f\"Mean Squared Error (MSE): {mse:.2f}\")\n",
        "print(f\"Mean Absolute Error (MAE): {mae:.2f}\")\n",
        "print(f\"Root Mean Squared Error (RMSE): {rmse:.2f}\")\n",
        "print(f\"R² Score: {r2:.4f}\")"
      ]
    },
    {
      "cell_type": "markdown",
      "id": "26df5654",
      "metadata": {
        "id": "26df5654"
      },
      "source": [
        "Plot actual vs predicted"
      ]
    },
    {
      "cell_type": "code",
      "execution_count": null,
      "id": "2e1174bc",
      "metadata": {
        "colab": {
          "base_uri": "https://localhost:8080/",
          "height": 796
        },
        "id": "2e1174bc",
        "outputId": "26e27b8b-7c05-490d-81e8-185cd02ed703"
      },
      "outputs": [
        {
          "output_type": "display_data",
          "data": {
            "text/plain": [
              "<Figure size 1000x600 with 1 Axes>"
            ],
            "image/png": "[encoded data removed]"
          },
          "metadata": {}
        },
        {
          "output_type": "stream",
          "name": "stdout",
          "text": [
            "\n",
            "Actual vs Predicted Temperatures (°F):\n",
            "Week 1: Actual = 58.00 °F, Predicted = 60.82 °F\n",
            "Week 2: Actual = 48.00 °F, Predicted = 57.56 °F\n",
            "Week 3: Actual = 56.00 °F, Predicted = 56.62 °F\n",
            "Week 4: Actual = 45.00 °F, Predicted = 52.81 °F\n",
            "Week 5: Actual = 47.00 °F, Predicted = 54.62 °F\n",
            "Week 6: Actual = 35.00 °F, Predicted = 48.55 °F\n",
            "Week 7: Actual = 36.00 °F, Predicted = 46.41 °F\n",
            "Week 8: Actual = 28.00 °F, Predicted = 39.18 °F\n",
            "Week 9: Actual = 16.00 °F, Predicted = 37.54 °F\n",
            "Week 10: Actual = 26.00 °F, Predicted = 28.94 °F\n",
            "Week 11: Actual = 35.00 °F, Predicted = 23.97 °F\n"
          ]
        }
      ],
      "source": [
        "# Plot actual vs predicted temperatures\n",
        "plt.figure(figsize=(10, 6))\n",
        "plt.plot(y_true, label='Actual Temperature')\n",
        "plt.plot(y_pred, label='Predicted Temperature')\n",
        "plt.title(f\"Temperature Forecast for {city}\")\n",
        "plt.xlabel(\"Weeks\")\n",
        "plt.ylabel(\"Temperature (°F)\")\n",
        "plt.legend()\n",
        "plt.grid(True)\n",
        "plt.show()\n",
        "\n",
        "# Print predicted vs actual temperature values side by side\n",
        "print(\"\\nActual vs Predicted Temperatures (°F):\")\n",
        "for i in range(len(y_true)):\n",
        "    actual = y_true[i][0]\n",
        "    predicted = y_pred[i][0]\n",
        "    print(f\"Week {i+1}: Actual = {actual:.2f} °F, Predicted = {predicted:.2f} °F\")"
      ]
    },
    {
      "cell_type": "markdown",
      "id": "tlpx31KdMof3",
      "metadata": {
        "id": "tlpx31KdMof3"
      },
      "source": [
        "Get the last 4 known scaled values from the dataset"
      ]
    },
    {
      "cell_type": "code",
      "execution_count": null,
      "id": "3azjIW0XOB1x",
      "metadata": {
        "id": "3azjIW0XOB1x"
      },
      "outputs": [],
      "source": [
        "last_4_weeks = city_df[[\"Date.Full\", \"Data.Temperature.Avg Temp\"]].tail(4).reset_index(drop=True)"
      ]
    },
    {
      "cell_type": "markdown",
      "id": "qhplVdA-ON8Y",
      "metadata": {
        "id": "qhplVdA-ON8Y"
      },
      "source": [
        "Predict next 2 weeks"
      ]
    },
    {
      "cell_type": "code",
      "execution_count": null,
      "id": "UamDyjNiOQVV",
      "metadata": {
        "colab": {
          "base_uri": "https://localhost:8080/"
        },
        "id": "UamDyjNiOQVV",
        "outputId": "058045ac-0d92-4ca8-8501-aaed0f4cb1c9"
      },
      "outputs": [
        {
          "output_type": "stream",
          "name": "stdout",
          "text": [
            "\u001b[1m1/1\u001b[0m \u001b[32m━━━━━━━━━━━━━━━━━━━━\u001b[0m\u001b[37m\u001b[0m \u001b[1m0s\u001b[0m 278ms/step\n",
            "\u001b[1m1/1\u001b[0m \u001b[32m━━━━━━━━━━━━━━━━━━━━\u001b[0m\u001b[37m\u001b[0m \u001b[1m0s\u001b[0m 36ms/step\n"
          ]
        }
      ],
      "source": [
        "# Get the last 4 actual scaled temps\n",
        "last_sequence = temps[-sequence_length:].tolist()\n",
        "sequence_input = np.array(last_sequence).reshape(1, sequence_length, 1)\n",
        "\n",
        "# Predict next week's temperature\n",
        "next_week_scaled = model.predict(sequence_input)\n",
        "next_week_temp = scaler.inverse_transform(next_week_scaled)[0][0]\n",
        "\n",
        "# Append predicted temp, shift sequence, predict 2nd week\n",
        "next_input = last_sequence[1:] + [next_week_scaled[0][0]]\n",
        "next_input_array = np.array(next_input).reshape(1, sequence_length, 1)\n",
        "\n",
        "# Predict 2 weeks ahead\n",
        "week_after_scaled = model.predict(next_input_array)\n",
        "week_after_temp = scaler.inverse_transform(week_after_scaled)[0][0]\n",
        "\n",
        "# Get the current week's temperature (last actual temp)\n",
        "current_temp = scaler.inverse_transform([[last_sequence[-1]]])[0][0]"
      ]
    },
    {
      "cell_type": "markdown",
      "id": "cDTrstPmOTz6",
      "metadata": {
        "id": "cDTrstPmOTz6"
      },
      "source": [
        "Prediction"
      ]
    },
    {
      "cell_type": "code",
      "execution_count": null,
      "id": "_sxEa3a0OpxB",
      "metadata": {
        "colab": {
          "base_uri": "https://localhost:8080/"
        },
        "id": "_sxEa3a0OpxB",
        "outputId": "bee80254-1c99-4df0-e4fb-90b58e952916"
      },
      "outputs": [
        {
          "output_type": "stream",
          "name": "stdout",
          "text": [
            "\n",
            "Last 4 Weeks of Average Temperatures:\n",
            "Week 1: 2016-12-11 - 28.00 °F\n",
            "Week 2: 2016-12-18 - 16.00 °F\n",
            "Week 3: 2016-12-25 - 26.00 °F\n",
            "Week 4: 2017-01-01 - 35.00 °F\n",
            "\n",
            "Current week's actual temperature: 35.00 °F\n",
            "Predicted temperature for next week: 33.07 °F\n",
            "Predicted temperature for week after next: 38.35 °F\n"
          ]
        }
      ],
      "source": [
        "print(\"\\nLast 4 Weeks of Average Temperatures:\")\n",
        "for i, row in last_4_weeks.iterrows():\n",
        "    print(f\"Week {i+1}: {row['Date.Full'].date()} - {row['Data.Temperature.Avg Temp']:.2f} °F\")\n",
        "print(f\"\\nCurrent week's actual temperature: {current_temp:.2f} °F\")\n",
        "print(f\"Predicted temperature for next week: {next_week_temp:.2f} °F\")\n",
        "print(f\"Predicted temperature for week after next: {week_after_temp:.2f} °F\")"
      ]
    },
    {
      "cell_type": "code",
      "source": [],
      "metadata": {
        "id": "cMnKzqldmo4a"
      },
      "id": "cMnKzqldmo4a",
      "execution_count": null,
      "outputs": []
    }
  ],
  "metadata": {
    "colab": {
      "provenance": []
    },
    "kernelspec": {
      "display_name": "Python 3",
      "language": "python",
      "name": "python3"
    },
    "language_info": {
      "codemirror_mode": {
        "name": "ipython",
        "version": 3
      },
      "file_extension": ".py",
      "mimetype": "text/x-python",
      "name": "python",
      "nbconvert_exporter": "python",
      "pygments_lexer": "ipython3",
      "version": "3.12.10"
    }
  },
  "nbformat": 4,
  "nbformat_minor": 5
}